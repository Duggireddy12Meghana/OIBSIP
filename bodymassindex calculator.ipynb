{
 "cells": [
  {
   "cell_type": "code",
   "execution_count": 1,
   "id": "f173347a-8861-4f15-b311-948f1c68a659",
   "metadata": {
    "tags": []
   },
   "outputs": [
    {
     "name": "stdin",
     "output_type": "stream",
     "text": [
      "Please enter your weight (in kilograms):  64\n",
      "Please enter your height (in feets):  5.3\n"
     ]
    },
    {
     "name": "stdout",
     "output_type": "stream",
     "text": [
      "Your BODYMASSINDEX is: 2.2783908864364544\n",
      "BODYMASSINDEX Category: UNDERWEIGHT\n"
     ]
    }
   ],
   "source": [
    "def calculate_bodymassindex(weight, height):\n",
    "    bodymassindex = weight / (height ** 2)\n",
    "    return bodymassindex\n",
    "def classify_bodymassindex(bmi):\n",
    "    if bodymassindex < 18.5:\n",
    "        category = \"UNDERWEIGHT\"\n",
    "    elif 18.5 <= bodymassindex < 25:\n",
    "        category = \"NORMAL\"\n",
    "    elif 25 <= bodymassindex < 30:\n",
    "        category = \"OVERWEIGHT\"\n",
    "    else:\n",
    "        category = \"OBESE\"\n",
    "    return category\n",
    "weight = float(input(\"Please enter your weight (in kilograms): \"))\n",
    "height = float(input(\"Please enter your height (in feets): \"))\n",
    "bodymassindex = calculate_bodymassindex(weight, height)\n",
    "category = classify_bodymassindex(bodymassindex)\n",
    "print(\"Your BODYMASSINDEX is:\", bodymassindex)\n",
    "print(\"BODYMASSINDEX Category:\", category)"
   ]
  },
  {
   "cell_type": "code",
   "execution_count": null,
   "id": "6e80b004-ec2d-4af2-a1aa-781a17f0bda2",
   "metadata": {},
   "outputs": [],
   "source": []
  }
 ],
 "metadata": {
  "kernelspec": {
   "display_name": "Python 3 (ipykernel)",
   "language": "python",
   "name": "python3"
  },
  "language_info": {
   "codemirror_mode": {
    "name": "ipython",
    "version": 3
   },
   "file_extension": ".py",
   "mimetype": "text/x-python",
   "name": "python",
   "nbconvert_exporter": "python",
   "pygments_lexer": "ipython3",
   "version": "3.11.5"
  }
 },
 "nbformat": 4,
 "nbformat_minor": 5
}
