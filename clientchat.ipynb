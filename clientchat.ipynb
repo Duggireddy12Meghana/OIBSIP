{
 "cells": [
  {
   "cell_type": "code",
   "execution_count": 1,
   "id": "72208976-03b6-40ff-87f7-7eed5b2f31e4",
   "metadata": {},
   "outputs": [
    {
     "name": "stdin",
     "output_type": "stream",
     "text": [
      "enter your message hi\n"
     ]
    }
   ],
   "source": [
    "import socket\n",
    "c=socket.socket()\n",
    "c.connect(('localhost',9992))\n",
    "msg=input('enter your message')\n",
    "c.send(bytes(msg,'UTF-8'))\n",
    "c.close()"
   ]
  },
  {
   "cell_type": "code",
   "execution_count": 2,
   "id": "60096e95-3a63-46f2-84b4-5761b7aecf3c",
   "metadata": {
    "tags": []
   },
   "outputs": [
    {
     "name": "stdin",
     "output_type": "stream",
     "text": [
      "enter your message hi i am client\n"
     ]
    }
   ],
   "source": [
    "import socket\n",
    "c=socket.socket()\n",
    "c.connect(('localhost',9994))\n",
    "msg=input('enter your message')\n",
    "c.send(bytes(msg,'UTF-8'))\n",
    "c.close()"
   ]
  },
  {
   "cell_type": "code",
   "execution_count": null,
   "id": "c22c8c6c-c3c8-48ff-b429-5c4f80f0d48a",
   "metadata": {},
   "outputs": [],
   "source": []
  }
 ],
 "metadata": {
  "kernelspec": {
   "display_name": "Python 3 (ipykernel)",
   "language": "python",
   "name": "python3"
  },
  "language_info": {
   "codemirror_mode": {
    "name": "ipython",
    "version": 3
   },
   "file_extension": ".py",
   "mimetype": "text/x-python",
   "name": "python",
   "nbconvert_exporter": "python",
   "pygments_lexer": "ipython3",
   "version": "3.11.5"
  }
 },
 "nbformat": 4,
 "nbformat_minor": 5
}
