{
 "cells": [
  {
   "cell_type": "code",
   "execution_count": 1,
   "id": "1cf16efa-7c8e-4c68-8fad-92597d9f210e",
   "metadata": {
    "tags": []
   },
   "outputs": [
    {
     "name": "stdin",
     "output_type": "stream",
     "text": [
      "Enter password length:  7\n",
      "Include Lowercase letters (yes/no)?  yes\n",
      "Include Uppercase letters (yes/no)?  yes\n",
      "Include Digits (yes/no)?  yes\n",
      "Include Symbols (yes/no)?  no\n"
     ]
    },
    {
     "name": "stdout",
     "output_type": "stream",
     "text": [
      "Generated password is: 7SP2lXL\n"
     ]
    }
   ],
   "source": [
    "import string\n",
    "import secrets\n",
    "def generate_password(length, charset):\n",
    "    password = ''.join(secrets.choice(charset) for _ in range(length))\n",
    "    return password\n",
    "Length = int(input(\"Enter password length: \"))\n",
    "Lowercase_letters = input(\"Include Lowercase letters (yes/no)? \") == \"yes\"\n",
    "Uppercase_letters = input(\"Include Uppercase letters (yes/no)? \") == \"yes\"\n",
    "Digits = input(\"Include Digits (yes/no)? \") == \"yes\"\n",
    "Symbols = input(\"Include Symbols (yes/no)? \") == \"yes\"\n",
    "charset = \"\"\n",
    "if Lowercase_letters:\n",
    "    charset += string.ascii_lowercase\n",
    "if Uppercase_letters:\n",
    "    charset += string.ascii_uppercase\n",
    "if Digits:\n",
    "    charset += string.digits\n",
    "if Symbols:\n",
    "    charset += string.punctuation\n",
    "password = generate_password(Length, charset)\n",
    "print(\"Generated password is:\", password)"
   ]
  },
  {
   "cell_type": "code",
   "execution_count": null,
   "id": "a605cfdd-4a6c-42f0-bcf3-1f71a63aad6f",
   "metadata": {},
   "outputs": [],
   "source": []
  }
 ],
 "metadata": {
  "kernelspec": {
   "display_name": "Python 3 (ipykernel)",
   "language": "python",
   "name": "python3"
  },
  "language_info": {
   "codemirror_mode": {
    "name": "ipython",
    "version": 3
   },
   "file_extension": ".py",
   "mimetype": "text/x-python",
   "name": "python",
   "nbconvert_exporter": "python",
   "pygments_lexer": "ipython3",
   "version": "3.11.5"
  }
 },
 "nbformat": 4,
 "nbformat_minor": 5
}
